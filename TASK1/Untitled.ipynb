{
 "cells": [
  {
   "cell_type": "code",
   "execution_count": 2,
   "id": "43ce0598",
   "metadata": {},
   "outputs": [],
   "source": [
    "import gensim.downloader as api\n",
    "wv = api.load('word2vec-google-news-300')"
   ]
  },
  {
   "cell_type": "code",
   "execution_count": 3,
   "id": "b7ea1adb",
   "metadata": {},
   "outputs": [],
   "source": [
    "import pandas as pd"
   ]
  },
  {
   "cell_type": "code",
   "execution_count": 4,
   "id": "51240509",
   "metadata": {},
   "outputs": [],
   "source": [
    "syn = pd.read_csv(\"synonyms.csv\")"
   ]
  },
  {
   "cell_type": "code",
   "execution_count": 15,
   "id": "a209e33e",
   "metadata": {},
   "outputs": [
    {
     "data": {
      "text/plain": [
       "'appropriately'"
      ]
     },
     "execution_count": 15,
     "metadata": {},
     "output_type": "execute_result"
    }
   ],
   "source": [
    "pos = ['0']\n",
    "syn[pos[0]][0]"
   ]
  },
  {
   "cell_type": "code",
   "execution_count": 9,
   "id": "f46c9a4e",
   "metadata": {},
   "outputs": [
    {
     "name": "stdout",
     "output_type": "stream",
     "text": [
      "pipi\n"
     ]
    }
   ],
   "source": [
    "age = 66\n",
    "discount = \"caca\" if age < 65 else (\"pipi\" if age > 65 else \"bebelala\")\n",
    "print(discount)"
   ]
  },
  {
   "cell_type": "code",
   "execution_count": 28,
   "id": "50147b64",
   "metadata": {},
   "outputs": [
    {
     "data": {
      "text/plain": [
       "False"
      ]
     },
     "execution_count": 28,
     "metadata": {},
     "output_type": "execute_result"
    }
   ],
   "source": [
    "'djas' in wv"
   ]
  },
  {
   "cell_type": "code",
   "execution_count": 29,
   "id": "f59f5c81",
   "metadata": {},
   "outputs": [
    {
     "data": {
      "text/plain": [
       "80"
      ]
     },
     "execution_count": 29,
     "metadata": {},
     "output_type": "execute_result"
    }
   ],
   "source": [
    "syn.shape[0]"
   ]
  },
  {
   "cell_type": "code",
   "execution_count": 19,
   "id": "a53dd728",
   "metadata": {},
   "outputs": [
    {
     "data": {
      "text/plain": [
       "False"
      ]
     },
     "execution_count": 19,
     "metadata": {},
     "output_type": "execute_result"
    }
   ],
   "source": [
    "\"correct\" == \"Correct\""
   ]
  },
  {
   "cell_type": "code",
   "execution_count": 27,
   "id": "7e2db059",
   "metadata": {},
   "outputs": [],
   "source": [
    "arrDetails=[]\n",
    "arrAnalysis=[]\n",
    "guessCount = 0\n",
    "correctCount = 0\n",
    "for i in range(syn.shape[0]):\n",
    "    guessWord = \"\"\n",
    "    label = \"\"\n",
    "    questionWord = syn['question'][i]\n",
    "    answerWord = syn['answer'][i]\n",
    "    positions = []\n",
    "    max = 0\n",
    "    if questionWord in wv:\n",
    "        if syn['0'][i] in wv: positions.append(\"0\")\n",
    "        if syn['1'][i] in wv: positions.append(\"1\")\n",
    "        if syn['2'][i] in wv: positions.append(\"2\")\n",
    "        if syn['3'][i] in wv: positions.append(\"3\")\n",
    "        if len(positions) == 0: \n",
    "            guessWord = syn['0'][i]\n",
    "            guessCount = guessCount + 1\n",
    "        for j in range(len(positions)):\n",
    "            if max < wv.similarity(questionWord, syn[positions[j]][i]):\n",
    "                max = wv.similarity(questionWord, syn[positions[j]][i])\n",
    "                guessWord = syn[positions[j]][i]\n",
    "        label = \"correct\" if guessWord == answerWord else \"wrong\"\n",
    "        if label == \"correct\": correctCount = correctCount + 1 \n",
    "    else:\n",
    "        guessWord = syn['0'][i]\n",
    "        label = \"guess\"\n",
    "        guessCount = guessCount + 1\n",
    "    \n",
    "    arrDetails.append([questionWord, answerWord, guessWord, label])\n",
    "\n",
    "analysis = pd.DataFrame(arrDetails, columns = ['Question','Real Answer','Sys Answer','Label'])\n",
    "analysis.to_csv('word2vec-google-news-300-details.csv', index = False)"
   ]
  },
  {
   "cell_type": "code",
   "execution_count": 30,
   "id": "11cca420",
   "metadata": {},
   "outputs": [],
   "source": [
    "vocabSize = str(len(wv.index_to_key))\n",
    "C = str(correctCount)\n",
    "V = str(80 - guessCount)\n",
    "accuracy = str(correctCount/80)\n",
    "analysis = pd.DataFrame([['Word2vec-google-news-300', vocabSize, C, V, accuracy]], columns = ['Model Name','Vocab Size','C','V','Accuracy'])\n",
    "analysis.to_csv('analysis.csv', index = False)"
   ]
  }
 ],
 "metadata": {
  "kernelspec": {
   "display_name": "Python 3 (ipykernel)",
   "language": "python",
   "name": "python3"
  },
  "language_info": {
   "codemirror_mode": {
    "name": "ipython",
    "version": 3
   },
   "file_extension": ".py",
   "mimetype": "text/x-python",
   "name": "python",
   "nbconvert_exporter": "python",
   "pygments_lexer": "ipython3",
   "version": "3.8.12"
  }
 },
 "nbformat": 4,
 "nbformat_minor": 5
}
