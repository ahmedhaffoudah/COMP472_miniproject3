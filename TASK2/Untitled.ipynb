{
 "cells": [
  {
   "cell_type": "code",
   "execution_count": 2,
   "id": "43ce0598",
   "metadata": {},
   "outputs": [
    {
     "name": "stderr",
     "output_type": "stream",
     "text": [
      "C:\\Users\\inso\\miniconda3\\lib\\site-packages\\gensim\\similarities\\__init__.py:15: UserWarning: The gensim.similarities.levenshtein submodule is disabled, because the optional Levenshtein package <https://pypi.org/project/python-Levenshtein/> is unavailable. Install Levenhstein (e.g. `pip install python-Levenshtein`) to suppress this warning.\n",
      "  warnings.warn(msg)\n"
     ]
    }
   ],
   "source": [
    "import gensim.downloader as api"
   ]
  },
  {
   "cell_type": "code",
   "execution_count": 3,
   "id": "b7e1dfee",
   "metadata": {},
   "outputs": [],
   "source": [
    "glove_twitter25 = api.load('glove-twitter-25')"
   ]
  },
  {
   "cell_type": "code",
   "execution_count": 3,
   "id": "2bd78982",
   "metadata": {},
   "outputs": [
    {
     "name": "stdout",
     "output_type": "stream",
     "text": [
      "[==================================================] 100.0% 199.5/199.5MB downloaded\n"
     ]
    }
   ],
   "source": [
    "glove_twitter50 = api.load('glove-twitter-50')"
   ]
  },
  {
   "cell_type": "code",
   "execution_count": 4,
   "id": "f2aade83",
   "metadata": {},
   "outputs": [
    {
     "name": "stdout",
     "output_type": "stream",
     "text": [
      "[==================================================] 100.0% 387.1/387.1MB downloaded\n"
     ]
    }
   ],
   "source": [
    "glove_twitter100 = api.load('glove-twitter-100')"
   ]
  },
  {
   "cell_type": "code",
   "execution_count": 5,
   "id": "5e4ea6e6",
   "metadata": {},
   "outputs": [
    {
     "name": "stdout",
     "output_type": "stream",
     "text": [
      "[==================================================] 100.0% 128.1/128.1MB downloaded\n"
     ]
    }
   ],
   "source": [
    "glove_wiki100 = api.load('glove-wiki-gigaword-100')"
   ]
  },
  {
   "cell_type": "code",
   "execution_count": 4,
   "id": "b7ea1adb",
   "metadata": {},
   "outputs": [],
   "source": [
    "import pandas as pd"
   ]
  },
  {
   "cell_type": "code",
   "execution_count": 5,
   "id": "51240509",
   "metadata": {},
   "outputs": [],
   "source": [
    "syn = pd.read_csv(\"synonyms.csv\")"
   ]
  },
  {
   "cell_type": "markdown",
   "id": "d56ff94c",
   "metadata": {},
   "source": [
    "## Wikipedia-100"
   ]
  },
  {
   "cell_type": "code",
   "execution_count": 13,
   "id": "7e2db059",
   "metadata": {},
   "outputs": [],
   "source": [
    "arrDetails=[]\n",
    "arrAnalysis=[]\n",
    "guessCount = 0\n",
    "correctCount = 0\n",
    "for i in range(syn.shape[0]):\n",
    "    guessWord = \"\"\n",
    "    label = \"\"\n",
    "    questionWord = syn['question'][i]\n",
    "    answerWord = syn['answer'][i]\n",
    "    positions = []\n",
    "    max = 0\n",
    "    if questionWord in glove_wiki100:\n",
    "        if syn['0'][i] in glove_wiki100: positions.append(\"0\")\n",
    "        if syn['1'][i] in glove_wiki100: positions.append(\"1\")\n",
    "        if syn['2'][i] in glove_wiki100: positions.append(\"2\")\n",
    "        if syn['3'][i] in glove_wiki100: positions.append(\"3\")\n",
    "        if len(positions) == 0: \n",
    "            guessWord = syn['0'][i]\n",
    "            guessCount = guessCount + 1\n",
    "        for j in range(len(positions)):\n",
    "            if max < glove_wiki100.similarity(questionWord, syn[positions[j]][i]):\n",
    "                max = glove_wiki100.similarity(questionWord, syn[positions[j]][i])\n",
    "                guessWord = syn[positions[j]][i]\n",
    "        label = \"correct\" if guessWord == answerWord else \"wrong\"\n",
    "        if label == \"correct\": correctCount = correctCount + 1 \n",
    "    else:\n",
    "        guessWord = syn['0'][i]\n",
    "        label = \"guess\"\n",
    "        guessCount = guessCount + 1\n",
    "    \n",
    "    arrDetails.append([questionWord, answerWord, guessWord, label])\n",
    "\n",
    "analysis = pd.DataFrame(arrDetails, columns = ['Question','Real Answer','Sys Answer','Label'])\n",
    "analysis.to_csv('glove-wiki-gigaword-100-details.csv', index = False)"
   ]
  },
  {
   "cell_type": "code",
   "execution_count": 14,
   "id": "11cca420",
   "metadata": {},
   "outputs": [],
   "source": [
    "vocabSize = str(len(glove_wiki100.index_to_key))\n",
    "C = str(correctCount)\n",
    "V = str(80 - guessCount)\n",
    "accuracy = str(correctCount/80)\n",
    "analysis = pd.DataFrame([['Glove-wiki-gigaword-100', vocabSize, C, V, accuracy]], columns = ['Model Name','Vocab Size','C','V','Accuracy'])\n",
    "analysis.to_csv('analysis.csv', mode = 'a', index = False, header = False)"
   ]
  },
  {
   "cell_type": "markdown",
   "id": "74578a44",
   "metadata": {},
   "source": [
    "## Twitter-100"
   ]
  },
  {
   "cell_type": "code",
   "execution_count": 15,
   "id": "e9e38fc3",
   "metadata": {},
   "outputs": [],
   "source": [
    "arrDetails=[]\n",
    "arrAnalysis=[]\n",
    "guessCount = 0\n",
    "correctCount = 0\n",
    "for i in range(syn.shape[0]):\n",
    "    guessWord = \"\"\n",
    "    label = \"\"\n",
    "    questionWord = syn['question'][i]\n",
    "    answerWord = syn['answer'][i]\n",
    "    positions = []\n",
    "    max = 0\n",
    "    if questionWord in glove_twitter100:\n",
    "        if syn['0'][i] in glove_twitter100: positions.append(\"0\")\n",
    "        if syn['1'][i] in glove_twitter100: positions.append(\"1\")\n",
    "        if syn['2'][i] in glove_twitter100: positions.append(\"2\")\n",
    "        if syn['3'][i] in glove_twitter100: positions.append(\"3\")\n",
    "        if len(positions) == 0: \n",
    "            guessWord = syn['0'][i]\n",
    "            guessCount = guessCount + 1\n",
    "        for j in range(len(positions)):\n",
    "            if max < glove_twitter100.similarity(questionWord, syn[positions[j]][i]):\n",
    "                max = glove_twitter100.similarity(questionWord, syn[positions[j]][i])\n",
    "                guessWord = syn[positions[j]][i]\n",
    "        label = \"correct\" if guessWord == answerWord else \"wrong\"\n",
    "        if label == \"correct\": correctCount = correctCount + 1 \n",
    "    else:\n",
    "        guessWord = syn['0'][i]\n",
    "        label = \"guess\"\n",
    "        guessCount = guessCount + 1\n",
    "    \n",
    "    arrDetails.append([questionWord, answerWord, guessWord, label])\n",
    "\n",
    "analysis = pd.DataFrame(arrDetails, columns = ['Question','Real Answer','Sys Answer','Label'])\n",
    "analysis.to_csv('glove-twitter-100-details.csv', index = False)"
   ]
  },
  {
   "cell_type": "code",
   "execution_count": 17,
   "id": "c22e2c69",
   "metadata": {},
   "outputs": [],
   "source": [
    "vocabSize = str(len(glove_twitter100.index_to_key))\n",
    "C = str(correctCount)\n",
    "V = str(80 - guessCount)\n",
    "accuracy = str(correctCount/80)\n",
    "analysis = pd.DataFrame([['Glove-twitter-100', vocabSize, C, V, accuracy]], columns = ['Model Name','Vocab Size','C','V','Accuracy'])\n",
    "analysis.to_csv('analysis.csv', mode = 'a', index = False, header = False)"
   ]
  },
  {
   "cell_type": "markdown",
   "id": "1ddf27ce",
   "metadata": {},
   "source": [
    "## Twitter-50"
   ]
  },
  {
   "cell_type": "code",
   "execution_count": 18,
   "id": "2f57a818",
   "metadata": {},
   "outputs": [],
   "source": [
    "arrDetails=[]\n",
    "arrAnalysis=[]\n",
    "guessCount = 0\n",
    "correctCount = 0\n",
    "for i in range(syn.shape[0]):\n",
    "    guessWord = \"\"\n",
    "    label = \"\"\n",
    "    questionWord = syn['question'][i]\n",
    "    answerWord = syn['answer'][i]\n",
    "    positions = []\n",
    "    max = 0\n",
    "    if questionWord in glove_twitter50:\n",
    "        if syn['0'][i] in glove_twitter50: positions.append(\"0\")\n",
    "        if syn['1'][i] in glove_twitter50: positions.append(\"1\")\n",
    "        if syn['2'][i] in glove_twitter50: positions.append(\"2\")\n",
    "        if syn['3'][i] in glove_twitter50: positions.append(\"3\")\n",
    "        if len(positions) == 0: \n",
    "            guessWord = syn['0'][i]\n",
    "            guessCount = guessCount + 1\n",
    "        for j in range(len(positions)):\n",
    "            if max < glove_twitter50.similarity(questionWord, syn[positions[j]][i]):\n",
    "                max = glove_twitter50.similarity(questionWord, syn[positions[j]][i])\n",
    "                guessWord = syn[positions[j]][i]\n",
    "        label = \"correct\" if guessWord == answerWord else \"wrong\"\n",
    "        if label == \"correct\": correctCount = correctCount + 1 \n",
    "    else:\n",
    "        guessWord = syn['0'][i]\n",
    "        label = \"guess\"\n",
    "        guessCount = guessCount + 1\n",
    "    \n",
    "    arrDetails.append([questionWord, answerWord, guessWord, label])\n",
    "\n",
    "analysis = pd.DataFrame(arrDetails, columns = ['Question','Real Answer','Sys Answer','Label'])\n",
    "analysis.to_csv('glove-twitter-50-details.csv', index = False)"
   ]
  },
  {
   "cell_type": "code",
   "execution_count": 19,
   "id": "035ffc54",
   "metadata": {},
   "outputs": [],
   "source": [
    "vocabSize = str(len(glove_twitter50.index_to_key))\n",
    "C = str(correctCount)\n",
    "V = str(80 - guessCount)\n",
    "accuracy = str(correctCount/80)\n",
    "analysis = pd.DataFrame([['Glove-twitter-50', vocabSize, C, V, accuracy]], columns = ['Model Name','Vocab Size','C','V','Accuracy'])\n",
    "analysis.to_csv('analysis.csv', mode = 'a', index = False, header = False)"
   ]
  },
  {
   "cell_type": "markdown",
   "id": "9b4d5c58",
   "metadata": {},
   "source": [
    "## Twitter-25"
   ]
  },
  {
   "cell_type": "code",
   "execution_count": 6,
   "id": "7e2db059",
   "metadata": {},
   "outputs": [],
   "source": [
    "arrDetails=[]\n",
    "arrAnalysis=[]\n",
    "guessCount = 0\n",
    "correctCount = 0\n",
    "for i in range(syn.shape[0]):\n",
    "    guessWord = \"\"\n",
    "    label = \"\"\n",
    "    questionWord = syn['question'][i]\n",
    "    answerWord = syn['answer'][i]\n",
    "    positions = []\n",
    "    max = 0\n",
    "    if questionWord in glove_twitter25:\n",
    "        if syn['0'][i] in glove_twitter25: positions.append(\"0\")\n",
    "        if syn['1'][i] in glove_twitter25: positions.append(\"1\")\n",
    "        if syn['2'][i] in glove_twitter25: positions.append(\"2\")\n",
    "        if syn['3'][i] in glove_twitter25: positions.append(\"3\")\n",
    "        if len(positions) == 0: \n",
    "            guessWord = syn['0'][i]\n",
    "            guessCount = guessCount + 1\n",
    "        for j in range(len(positions)):\n",
    "            if max < glove_twitter25.similarity(questionWord, syn[positions[j]][i]):\n",
    "                max = glove_twitter25.similarity(questionWord, syn[positions[j]][i])\n",
    "                guessWord = syn[positions[j]][i]\n",
    "        label = \"correct\" if guessWord == answerWord else \"wrong\"\n",
    "        if label == \"correct\": correctCount = correctCount + 1 \n",
    "    else:\n",
    "        guessWord = syn['0'][i]\n",
    "        label = \"guess\"\n",
    "        guessCount = guessCount + 1\n",
    "    \n",
    "    arrDetails.append([questionWord, answerWord, guessWord, label])\n",
    "\n",
    "analysis = pd.DataFrame(arrDetails, columns = ['Question','Real Answer','Sys Answer','Label'])\n",
    "analysis.to_csv('glove-twitter-25-details.csv', index = False)"
   ]
  },
  {
   "cell_type": "code",
   "execution_count": 8,
   "id": "11cca420",
   "metadata": {},
   "outputs": [],
   "source": [
    "vocabSize = str(len(glove_twitter25.index_to_key))\n",
    "C = str(correctCount)\n",
    "V = str(80 - guessCount)\n",
    "accuracy = str(correctCount/80)\n",
    "analysis = pd.DataFrame([['Glove-twitter-25', vocabSize, C, V, accuracy]], columns = ['Model Name','Vocab Size','C','V','Accuracy'])\n",
    "analysis.to_csv('analysis.csv', mode = 'a', index = False, header = False)"
   ]
  }
 ],
 "metadata": {
  "kernelspec": {
   "display_name": "Python 3 (ipykernel)",
   "language": "python",
   "name": "python3"
  },
  "language_info": {
   "codemirror_mode": {
    "name": "ipython",
    "version": 3
   },
   "file_extension": ".py",
   "mimetype": "text/x-python",
   "name": "python",
   "nbconvert_exporter": "python",
   "pygments_lexer": "ipython3",
   "version": "3.8.12"
  }
 },
 "nbformat": 4,
 "nbformat_minor": 5
}
